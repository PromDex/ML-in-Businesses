{
 "cells": [
  {
   "cell_type": "markdown",
   "id": "2fa2276b-66e2-48e8-9c12-801c637f11a2",
   "metadata": {},
   "source": [
    "### Домашнее задание\n",
    "\n",
    "1. взять любой набор данных для бинарной классификации (можно скачать один из модельных с https://archive.ics.uci.edu/ml/datasets.php)\n",
    "3. сделать feature engineering\n",
    "4. обучить любой классификатор (какой вам нравится)\n",
    "5. далее разделить ваш набор данных на два множества: P (positives) и U (unlabeled). Причем брать нужно не все положительные (класс 1) примеры, а только лишь часть\n",
    "6. применить random negative sampling для построения классификатора в новых условиях\n",
    "7. сравнить качество с решением из пункта 4 (построить отчет - таблицу метрик)\n",
    "8. поэкспериментировать с долей P на шаге 5 (как будет меняться качество модели при уменьшении/увеличении размера P)"
   ]
  },
  {
   "cell_type": "markdown",
   "id": "b50c6a1a-ce15-4c63-9e7f-955038bebd66",
   "metadata": {},
   "source": [
    "Задача look-alike, также известная как задача \"похожести\", относится к задачам в области машинного обучения и анализа данных. Она заключается в поиске объектов, которые по своим характеристикам (признакам) похожи на заданный объект или группу объектов.\n",
    "\n",
    "В контексте маркетинга и рекламы, задача look-alike относится к поиску аудитории, которая похожа на целевую аудиторию или группу клиентов. Например, если у вас есть группа клиентов, которые совершили определенное действие (покупку, подписку и т.д.), вы можете использовать алгоритмы машинного обучения, чтобы найти других потенциальных клиентов, которые по своим характеристикам и поведению похожи на эту группу. Это позволяет определить новую аудиторию, которая имеет высокую вероятность быть заинтересованной в вашем продукте или услуге.\n",
    "\n",
    "Процесс решения задачи look-alike обычно включает следующие шаги:\n",
    "\n",
    "1.Сбор данных: Необходимо собрать данные о характеристиках и поведении объектов, которые будут использоваться для определения похожести. Это могут быть данные о клиентах, их демографические характеристики, история покупок, активности в интернете и т.д.\n",
    "\n",
    "2.Предобработка данных: Данные обычно требуют предварительной обработки, такой как очистка от выбросов, заполнение пропущенных значений, масштабирование признаков и преобразование категориальных признаков в числовой формат.\n",
    "\n",
    "3.Выбор модели: Необходимо выбрать модель машинного обучения, которая будет использоваться для определения похожести. Это может быть алгоритм классификации или кластеризации, такой как k-ближайших соседей, случайный лес, градиентный бустинг и т.д.\n",
    "\n",
    "4.Обучение модели: На этом шаге модель обучается на исходных данных, чтобы определить закономерности и связи между признаками и целевыми объектами.\n",
    "\n",
    "5.Применение модели: Обученная модель применяется к новым данным для определения похожих объектов. Может быть выдана вероятность или оценка похожести для каждого объекта.\n",
    "\n",
    "6.Оценка результатов: После применения модели необходимо оценить ее эффективность и качество. Это может включать оценку точности модели, сравнение результатов с реальными значениями или сравнение с другими моделями.\n",
    "\n",
    "7.Использование результатов: После успешного решения задачи look-alike можно использовать полученные результаты для различных целей. Например, это может быть использование похожей аудитории для персонализации рекламных кампаний, предложения подходящих продуктов или услуг, прогнозирования поведения клиентов и других маркетинговых стратегий.\n",
    "\n",
    "Важно отметить, что решение задачи look-alike может быть сложным и зависит от множества факторов, таких как доступность и качество данных, выбор модели, выбор признаков и т.д. Также следует учитывать этические и юридические аспекты при использовании данных для определения похожих объектов, чтобы обеспечить конфиденциальность и соблюдение правил защиты данных."
   ]
  },
  {
   "cell_type": "markdown",
   "id": "0059016f-2841-4476-a79e-ce65960a514f",
   "metadata": {},
   "source": [
    "### 1. взять любой набор данных для бинарной классификации (можно скачать один из модельных с https://archive.ics.uci.edu/ml/datasets.php)"
   ]
  },
  {
   "cell_type": "markdown",
   "id": "15cfac17-c788-4da7-9446-e5200e0c9367",
   "metadata": {},
   "source": [
    "Расмотрим пример на датасете из репозитория UCI - https://archive.ics.uci.edu/ml/datasets/Shill+Bidding+Dataset\n",
    "\n",
    "**Цель: Поиск мошеннических действий при проведении аукционов.**\n",
    "\n",
    "**Информация о наборе данных:**\n",
    "\n",
    "Характеристики набора данных: Многомерный\\\n",
    "Количество экземпляров: 6321\\\n",
    "Количество атрибутов: 13\\\n",
    "Атрибутивные характеристики: Н/Д\\\n",
    "Связанные задачи: Классификация, кластеризация\\\n",
    "Дата создания 2020-03-10\\\n",
    "Количество веб-обращений: 24123"
   ]
  },
  {
   "cell_type": "code",
   "execution_count": 1,
   "id": "f07138d8-6aa6-4f45-b07b-f23185f83b09",
   "metadata": {},
   "outputs": [],
   "source": [
    "#!pip install pandas scikit-learn requests\n",
    "import pandas as pd\n",
    "import numpy as np\n",
    "from io import StringIO\n",
    "import requests\n",
    "\n",
    "from sklearn.model_selection import train_test_split\n",
    "from sklearn.ensemble import RandomForestClassifier\n",
    "from sklearn.metrics import accuracy_score\n",
    "\n",
    "import warnings\n",
    "warnings.filterwarnings('ignore')"
   ]
  },
  {
   "cell_type": "code",
   "execution_count": 2,
   "id": "812b7bf4-ac4f-4102-bf7c-521ce616fbbd",
   "metadata": {},
   "outputs": [
    {
     "data": {
      "text/html": [
       "<div>\n",
       "<style scoped>\n",
       "    .dataframe tbody tr th:only-of-type {\n",
       "        vertical-align: middle;\n",
       "    }\n",
       "\n",
       "    .dataframe tbody tr th {\n",
       "        vertical-align: top;\n",
       "    }\n",
       "\n",
       "    .dataframe thead th {\n",
       "        text-align: right;\n",
       "    }\n",
       "</style>\n",
       "<table border=\"1\" class=\"dataframe\">\n",
       "  <thead>\n",
       "    <tr style=\"text-align: right;\">\n",
       "      <th></th>\n",
       "      <th>Record_ID</th>\n",
       "      <th>Auction_ID</th>\n",
       "      <th>Bidder_ID</th>\n",
       "      <th>Bidder_Tendency</th>\n",
       "      <th>Bidding_Ratio</th>\n",
       "      <th>Successive_Outbidding</th>\n",
       "      <th>Last_Bidding</th>\n",
       "      <th>Auction_Bids</th>\n",
       "      <th>Starting_Price_Average</th>\n",
       "      <th>Early_Bidding</th>\n",
       "      <th>Winning_Ratio</th>\n",
       "      <th>Auction_Duration</th>\n",
       "      <th>Class</th>\n",
       "    </tr>\n",
       "  </thead>\n",
       "  <tbody>\n",
       "    <tr>\n",
       "      <th>0</th>\n",
       "      <td>1</td>\n",
       "      <td>732</td>\n",
       "      <td>_***i</td>\n",
       "      <td>0.200000</td>\n",
       "      <td>0.4</td>\n",
       "      <td>0.0</td>\n",
       "      <td>0.000028</td>\n",
       "      <td>0.0</td>\n",
       "      <td>0.993593</td>\n",
       "      <td>0.000028</td>\n",
       "      <td>0.666667</td>\n",
       "      <td>5</td>\n",
       "      <td>0</td>\n",
       "    </tr>\n",
       "    <tr>\n",
       "      <th>1</th>\n",
       "      <td>2</td>\n",
       "      <td>732</td>\n",
       "      <td>g***r</td>\n",
       "      <td>0.024390</td>\n",
       "      <td>0.2</td>\n",
       "      <td>0.0</td>\n",
       "      <td>0.013123</td>\n",
       "      <td>0.0</td>\n",
       "      <td>0.993593</td>\n",
       "      <td>0.013123</td>\n",
       "      <td>0.944444</td>\n",
       "      <td>5</td>\n",
       "      <td>0</td>\n",
       "    </tr>\n",
       "    <tr>\n",
       "      <th>2</th>\n",
       "      <td>3</td>\n",
       "      <td>732</td>\n",
       "      <td>t***p</td>\n",
       "      <td>0.142857</td>\n",
       "      <td>0.2</td>\n",
       "      <td>0.0</td>\n",
       "      <td>0.003042</td>\n",
       "      <td>0.0</td>\n",
       "      <td>0.993593</td>\n",
       "      <td>0.003042</td>\n",
       "      <td>1.000000</td>\n",
       "      <td>5</td>\n",
       "      <td>0</td>\n",
       "    </tr>\n",
       "  </tbody>\n",
       "</table>\n",
       "</div>"
      ],
      "text/plain": [
       "   Record_ID  Auction_ID Bidder_ID  Bidder_Tendency  Bidding_Ratio  \\\n",
       "0          1         732     _***i         0.200000            0.4   \n",
       "1          2         732     g***r         0.024390            0.2   \n",
       "2          3         732     t***p         0.142857            0.2   \n",
       "\n",
       "   Successive_Outbidding  Last_Bidding  Auction_Bids  Starting_Price_Average  \\\n",
       "0                    0.0      0.000028           0.0                0.993593   \n",
       "1                    0.0      0.013123           0.0                0.993593   \n",
       "2                    0.0      0.003042           0.0                0.993593   \n",
       "\n",
       "   Early_Bidding  Winning_Ratio  Auction_Duration  Class  \n",
       "0       0.000028       0.666667                 5      0  \n",
       "1       0.013123       0.944444                 5      0  \n",
       "2       0.003042       1.000000                 5      0  "
      ]
     },
     "execution_count": 2,
     "metadata": {},
     "output_type": "execute_result"
    }
   ],
   "source": [
    "url = \"https://archive.ics.uci.edu/ml/machine-learning-databases/00562/Shill Bidding Dataset.csv\"\n",
    "data_text = requests.get(url).text\n",
    "data_file = StringIO(data_text)\n",
    "#data = pd.read_csv(data_file, index_col='Record_ID')\n",
    "data = pd.read_csv(data_file)\n",
    "data.head(3)"
   ]
  },
  {
   "cell_type": "markdown",
   "id": "9a31e813-e9ab-48ca-8bb4-19e8a55db675",
   "metadata": {},
   "source": [
    "Информация об атрибутах:\n",
    "\n",
    "**Record_ID:** уникальный идентификатор записи в наборе данных.\\\n",
    "**Auction_ID:** Уникальный идентификатор аукциона.\\\n",
    "**Bidder_ID:** Уникальный идентификатор участника торгов.\\\n",
    "**Bidder_Tendency:** Подставные участники торгов участвуют исключительно в аукционах нескольких продавцов, а не в диверсифицированных лотах. Это сговор между продавцом-мошенником и сообщником.\\\n",
    "**Bidding_Ratio:** подставной участник торгов участвует чаще, чтобы поднять цену аукциона и привлечь более высокие ставки от законных участников.\\\n",
    "**Successive_Outbidding:** подставной участник торгов последовательно перебивает сам себя, даже если он является текущим победителем, чтобы постепенно увеличивать цену с небольшими последовательными приращениями.\\\n",
    "**Last_Bidding:** Подставной участник становится неактивным на последней стадии аукциона (более 90\\% продолжительности аукциона), чтобы не выиграть аукцион.\\\n",
    "**Auction_Bids:** Аукционы с деятельностью SB, как правило, имеют гораздо большее количество ставок, чем среднее количество ставок на параллельных аукционах.\\\n",
    "**Starting_Price_Average:** подставной участник обычно предлагает небольшую стартовую цену, чтобы привлечь на аукцион законных участников торгов.\\\n",
    "**Early_Bidding:** подставные торги обычно делают ставки довольно рано на аукционе (менее 25% от продолжительности аукциона), чтобы привлечь внимание пользователей аукциона.\\\n",
    "**Winning_Ratio:** подставной участник торгов участвует во многих аукционах, но почти не выигрывает ни одного аукциона.\\\n",
    "**Auction_Duration:** как долго длился аукцион.\\\n",
    "**Class:** 0 для нормального поведения торгов; 1 в противном случае."
   ]
  },
  {
   "cell_type": "code",
   "execution_count": 3,
   "id": "d16e1513-0e5b-4fda-af6f-09b3a0c0840b",
   "metadata": {},
   "outputs": [],
   "source": [
    "df = data.copy()"
   ]
  },
  {
   "cell_type": "code",
   "execution_count": 4,
   "id": "66025158-6983-450c-bb87-ac081e8f9f0d",
   "metadata": {},
   "outputs": [
    {
     "name": "stdout",
     "output_type": "stream",
     "text": [
      "(6321, 13)\n"
     ]
    }
   ],
   "source": [
    "print(df.shape)"
   ]
  },
  {
   "cell_type": "code",
   "execution_count": 5,
   "id": "a0289991-3298-40f4-b81c-80b97d8777e2",
   "metadata": {},
   "outputs": [
    {
     "data": {
      "text/plain": [
       "0    5646\n",
       "1     675\n",
       "Name: Class, dtype: int64"
      ]
     },
     "execution_count": 5,
     "metadata": {},
     "output_type": "execute_result"
    }
   ],
   "source": [
    "df.iloc[:, -1].value_counts()\n",
    "# данные не сбалансированы !!!"
   ]
  },
  {
   "cell_type": "code",
   "execution_count": 6,
   "id": "0a43b6af-9d6c-48dc-9808-97f7d4a55a54",
   "metadata": {},
   "outputs": [
    {
     "data": {
      "image/png": "[encoded data removed]",
      "text/plain": [
       "<Figure size 640x480 with 1 Axes>"
      ]
     },
     "metadata": {},
     "output_type": "display_data"
    }
   ],
   "source": [
    "# Визуализация распределения классов\n",
    "import seaborn as sns\n",
    "import matplotlib.pyplot as plt\n",
    "sns.countplot(data=df, x='Class')\n",
    "plt.title(\"Распределение классов\")\n",
    "plt.show()"
   ]
  },
  {
   "cell_type": "code",
   "execution_count": 7,
   "id": "8479ecfb-9144-4851-8098-ffeff4d36d44",
   "metadata": {},
   "outputs": [
    {
     "name": "stdout",
     "output_type": "stream",
     "text": [
      "<class 'pandas.core.frame.DataFrame'>\n",
      "RangeIndex: 6321 entries, 0 to 6320\n",
      "Data columns (total 13 columns):\n",
      " #   Column                  Non-Null Count  Dtype  \n",
      "---  ------                  --------------  -----  \n",
      " 0   Record_ID               6321 non-null   int64  \n",
      " 1   Auction_ID              6321 non-null   int64  \n",
      " 2   Bidder_ID               6321 non-null   object \n",
      " 3   Bidder_Tendency         6321 non-null   float64\n",
      " 4   Bidding_Ratio           6321 non-null   float64\n",
      " 5   Successive_Outbidding   6321 non-null   float64\n",
      " 6   Last_Bidding            6321 non-null   float64\n",
      " 7   Auction_Bids            6321 non-null   float64\n",
      " 8   Starting_Price_Average  6321 non-null   float64\n",
      " 9   Early_Bidding           6321 non-null   float64\n",
      " 10  Winning_Ratio           6321 non-null   float64\n",
      " 11  Auction_Duration        6321 non-null   int64  \n",
      " 12  Class                   6321 non-null   int64  \n",
      "dtypes: float64(8), int64(4), object(1)\n",
      "memory usage: 642.1+ KB\n"
     ]
    }
   ],
   "source": [
    "df.info()"
   ]
  },
  {
   "cell_type": "code",
   "execution_count": 8,
   "id": "18a588c0-98ed-4358-b968-31e63cb275b1",
   "metadata": {},
   "outputs": [
    {
     "data": {
      "text/html": [
       "<div>\n",
       "<style scoped>\n",
       "    .dataframe tbody tr th:only-of-type {\n",
       "        vertical-align: middle;\n",
       "    }\n",
       "\n",
       "    .dataframe tbody tr th {\n",
       "        vertical-align: top;\n",
       "    }\n",
       "\n",
       "    .dataframe thead th {\n",
       "        text-align: right;\n",
       "    }\n",
       "</style>\n",
       "<table border=\"1\" class=\"dataframe\">\n",
       "  <thead>\n",
       "    <tr style=\"text-align: right;\">\n",
       "      <th></th>\n",
       "      <th>Record_ID</th>\n",
       "      <th>Auction_ID</th>\n",
       "      <th>Bidder_Tendency</th>\n",
       "      <th>Bidding_Ratio</th>\n",
       "      <th>Successive_Outbidding</th>\n",
       "      <th>Last_Bidding</th>\n",
       "      <th>Auction_Bids</th>\n",
       "      <th>Starting_Price_Average</th>\n",
       "      <th>Early_Bidding</th>\n",
       "      <th>Winning_Ratio</th>\n",
       "      <th>Auction_Duration</th>\n",
       "      <th>Class</th>\n",
       "    </tr>\n",
       "  </thead>\n",
       "  <tbody>\n",
       "    <tr>\n",
       "      <th>count</th>\n",
       "      <td>6321.000000</td>\n",
       "      <td>6321.000000</td>\n",
       "      <td>6321.000000</td>\n",
       "      <td>6321.000000</td>\n",
       "      <td>6321.000000</td>\n",
       "      <td>6321.000000</td>\n",
       "      <td>6321.000000</td>\n",
       "      <td>6321.000000</td>\n",
       "      <td>6321.000000</td>\n",
       "      <td>6321.000000</td>\n",
       "      <td>6321.000000</td>\n",
       "      <td>6321.000000</td>\n",
       "    </tr>\n",
       "    <tr>\n",
       "      <th>mean</th>\n",
       "      <td>7535.829457</td>\n",
       "      <td>1241.388230</td>\n",
       "      <td>0.142541</td>\n",
       "      <td>0.127670</td>\n",
       "      <td>0.103781</td>\n",
       "      <td>0.463119</td>\n",
       "      <td>0.231606</td>\n",
       "      <td>0.472821</td>\n",
       "      <td>0.430683</td>\n",
       "      <td>0.367731</td>\n",
       "      <td>4.615093</td>\n",
       "      <td>0.106787</td>\n",
       "    </tr>\n",
       "    <tr>\n",
       "      <th>std</th>\n",
       "      <td>4364.759137</td>\n",
       "      <td>735.770789</td>\n",
       "      <td>0.197084</td>\n",
       "      <td>0.131530</td>\n",
       "      <td>0.279698</td>\n",
       "      <td>0.380097</td>\n",
       "      <td>0.255252</td>\n",
       "      <td>0.489912</td>\n",
       "      <td>0.380785</td>\n",
       "      <td>0.436573</td>\n",
       "      <td>2.466629</td>\n",
       "      <td>0.308867</td>\n",
       "    </tr>\n",
       "    <tr>\n",
       "      <th>min</th>\n",
       "      <td>1.000000</td>\n",
       "      <td>5.000000</td>\n",
       "      <td>0.000000</td>\n",
       "      <td>0.011765</td>\n",
       "      <td>0.000000</td>\n",
       "      <td>0.000000</td>\n",
       "      <td>0.000000</td>\n",
       "      <td>0.000000</td>\n",
       "      <td>0.000000</td>\n",
       "      <td>0.000000</td>\n",
       "      <td>1.000000</td>\n",
       "      <td>0.000000</td>\n",
       "    </tr>\n",
       "    <tr>\n",
       "      <th>25%</th>\n",
       "      <td>3778.000000</td>\n",
       "      <td>589.000000</td>\n",
       "      <td>0.027027</td>\n",
       "      <td>0.043478</td>\n",
       "      <td>0.000000</td>\n",
       "      <td>0.047928</td>\n",
       "      <td>0.000000</td>\n",
       "      <td>0.000000</td>\n",
       "      <td>0.026620</td>\n",
       "      <td>0.000000</td>\n",
       "      <td>3.000000</td>\n",
       "      <td>0.000000</td>\n",
       "    </tr>\n",
       "    <tr>\n",
       "      <th>50%</th>\n",
       "      <td>7591.000000</td>\n",
       "      <td>1246.000000</td>\n",
       "      <td>0.062500</td>\n",
       "      <td>0.083333</td>\n",
       "      <td>0.000000</td>\n",
       "      <td>0.440937</td>\n",
       "      <td>0.142857</td>\n",
       "      <td>0.000000</td>\n",
       "      <td>0.360104</td>\n",
       "      <td>0.000000</td>\n",
       "      <td>5.000000</td>\n",
       "      <td>0.000000</td>\n",
       "    </tr>\n",
       "    <tr>\n",
       "      <th>75%</th>\n",
       "      <td>11277.000000</td>\n",
       "      <td>1867.000000</td>\n",
       "      <td>0.166667</td>\n",
       "      <td>0.166667</td>\n",
       "      <td>0.000000</td>\n",
       "      <td>0.860363</td>\n",
       "      <td>0.454545</td>\n",
       "      <td>0.993593</td>\n",
       "      <td>0.826761</td>\n",
       "      <td>0.851852</td>\n",
       "      <td>7.000000</td>\n",
       "      <td>0.000000</td>\n",
       "    </tr>\n",
       "    <tr>\n",
       "      <th>max</th>\n",
       "      <td>15144.000000</td>\n",
       "      <td>2538.000000</td>\n",
       "      <td>1.000000</td>\n",
       "      <td>1.000000</td>\n",
       "      <td>1.000000</td>\n",
       "      <td>0.999900</td>\n",
       "      <td>0.788235</td>\n",
       "      <td>0.999935</td>\n",
       "      <td>0.999900</td>\n",
       "      <td>1.000000</td>\n",
       "      <td>10.000000</td>\n",
       "      <td>1.000000</td>\n",
       "    </tr>\n",
       "  </tbody>\n",
       "</table>\n",
       "</div>"
      ],
      "text/plain": [
       "          Record_ID   Auction_ID  Bidder_Tendency  Bidding_Ratio  \\\n",
       "count   6321.000000  6321.000000      6321.000000    6321.000000   \n",
       "mean    7535.829457  1241.388230         0.142541       0.127670   \n",
       "std     4364.759137   735.770789         0.197084       0.131530   \n",
       "min        1.000000     5.000000         0.000000       0.011765   \n",
       "25%     3778.000000   589.000000         0.027027       0.043478   \n",
       "50%     7591.000000  1246.000000         0.062500       0.083333   \n",
       "75%    11277.000000  1867.000000         0.166667       0.166667   \n",
       "max    15144.000000  2538.000000         1.000000       1.000000   \n",
       "\n",
       "       Successive_Outbidding  Last_Bidding  Auction_Bids  \\\n",
       "count            6321.000000   6321.000000   6321.000000   \n",
       "mean                0.103781      0.463119      0.231606   \n",
       "std                 0.279698      0.380097      0.255252   \n",
       "min                 0.000000      0.000000      0.000000   \n",
       "25%                 0.000000      0.047928      0.000000   \n",
       "50%                 0.000000      0.440937      0.142857   \n",
       "75%                 0.000000      0.860363      0.454545   \n",
       "max                 1.000000      0.999900      0.788235   \n",
       "\n",
       "       Starting_Price_Average  Early_Bidding  Winning_Ratio  Auction_Duration  \\\n",
       "count             6321.000000    6321.000000    6321.000000       6321.000000   \n",
       "mean                 0.472821       0.430683       0.367731          4.615093   \n",
       "std                  0.489912       0.380785       0.436573          2.466629   \n",
       "min                  0.000000       0.000000       0.000000          1.000000   \n",
       "25%                  0.000000       0.026620       0.000000          3.000000   \n",
       "50%                  0.000000       0.360104       0.000000          5.000000   \n",
       "75%                  0.993593       0.826761       0.851852          7.000000   \n",
       "max                  0.999935       0.999900       1.000000         10.000000   \n",
       "\n",
       "             Class  \n",
       "count  6321.000000  \n",
       "mean      0.106787  \n",
       "std       0.308867  \n",
       "min       0.000000  \n",
       "25%       0.000000  \n",
       "50%       0.000000  \n",
       "75%       0.000000  \n",
       "max       1.000000  "
      ]
     },
     "execution_count": 8,
     "metadata": {},
     "output_type": "execute_result"
    }
   ],
   "source": [
    "df.describe()"
   ]
  },
  {
   "cell_type": "markdown",
   "id": "26ec7058-777d-4344-808c-aa87e7b45c9a",
   "metadata": {},
   "source": [
    "### 2. сделать feature engineering\n",
    "\n",
    "после анализа датасета можно например сделать следующие операции предварительной обработки данных:\n",
    "\n",
    "- Удалить строки с пропущенными значениями.\n",
    "- Заполните пропущенные значения нулями или другими значениями.\n",
    "- Удалить столбец \"Record_ID\", так как он не содержит полезной информации.\n",
    "- Преобразовать текстовые признаки  \"Bidder_ID\", в числовые с помощью one-hot кодирования.\n",
    "- Масштабировать числовые признаки \"Starting_Price\", \"Bid_Price\" и \"Winning_Price\" с помощью стандартизации.\n",
    "- Добавить статистические признаки, такие как среднее значение, максимальное и минимальное значение столбца \"Bid_Price\" для каждого \"Auction\"."
   ]
  },
  {
   "cell_type": "code",
   "execution_count": 9,
   "id": "68dc653d-d98f-4d11-8f3c-01152c7bd83c",
   "metadata": {},
   "outputs": [
    {
     "name": "stdout",
     "output_type": "stream",
     "text": [
      "Дублирующиеся строки не найдены.\n"
     ]
    }
   ],
   "source": [
    "# Проверка дублирующихся строк\n",
    "duplicates = df.duplicated()\n",
    "num_duplicates = duplicates.sum()\n",
    "# Вывод информации о дубликатах\n",
    "if num_duplicates > 0:\n",
    "    print(\"Найдено\", num_duplicates, \"дублирующихся строки.\")\n",
    "    print(\"Дублирующиеся строки:\")\n",
    "    print(df[duplicates])\n",
    "else:\n",
    "    print(\"Дублирующиеся строки не найдены.\")"
   ]
  },
  {
   "cell_type": "code",
   "execution_count": 10,
   "id": "2d21a359-7fdb-4971-a166-a00a06b1fc77",
   "metadata": {},
   "outputs": [
    {
     "name": "stdout",
     "output_type": "stream",
     "text": [
      "Пропущенные значения не найдены.\n"
     ]
    }
   ],
   "source": [
    "# Проверка пропущенных значений\n",
    "missing_values = df.isnull().sum()\n",
    "# Вывод информации о пропущенных значениях\n",
    "if missing_values.sum() > 0:\n",
    "    print(\"Найдены пропущенные значения.\")\n",
    "    print(\"Количество пропущенных значений по столбцам:\")\n",
    "    print(missing_values)\n",
    "else:\n",
    "    print(\"Пропущенные значения не найдены.\")"
   ]
  },
  {
   "cell_type": "code",
   "execution_count": 11,
   "id": "c6218d36-32ee-4024-bcf9-5d497620989b",
   "metadata": {},
   "outputs": [
    {
     "data": {
      "text/html": [
       "<div>\n",
       "<style scoped>\n",
       "    .dataframe tbody tr th:only-of-type {\n",
       "        vertical-align: middle;\n",
       "    }\n",
       "\n",
       "    .dataframe tbody tr th {\n",
       "        vertical-align: top;\n",
       "    }\n",
       "\n",
       "    .dataframe thead th {\n",
       "        text-align: right;\n",
       "    }\n",
       "</style>\n",
       "<table border=\"1\" class=\"dataframe\">\n",
       "  <thead>\n",
       "    <tr style=\"text-align: right;\">\n",
       "      <th></th>\n",
       "      <th>Record_ID</th>\n",
       "      <th>Auction_ID</th>\n",
       "      <th>Bidder_ID</th>\n",
       "      <th>Bidder_Tendency</th>\n",
       "      <th>Bidding_Ratio</th>\n",
       "      <th>Successive_Outbidding</th>\n",
       "      <th>Last_Bidding</th>\n",
       "      <th>Auction_Bids</th>\n",
       "      <th>Starting_Price_Average</th>\n",
       "      <th>Early_Bidding</th>\n",
       "      <th>Winning_Ratio</th>\n",
       "      <th>Auction_Duration</th>\n",
       "      <th>Class</th>\n",
       "    </tr>\n",
       "  </thead>\n",
       "  <tbody>\n",
       "    <tr>\n",
       "      <th>0</th>\n",
       "      <td>1</td>\n",
       "      <td>732</td>\n",
       "      <td>_***i</td>\n",
       "      <td>0.200000</td>\n",
       "      <td>0.4</td>\n",
       "      <td>0.0</td>\n",
       "      <td>0.000028</td>\n",
       "      <td>0.0</td>\n",
       "      <td>0.993593</td>\n",
       "      <td>0.000028</td>\n",
       "      <td>0.666667</td>\n",
       "      <td>5</td>\n",
       "      <td>0</td>\n",
       "    </tr>\n",
       "    <tr>\n",
       "      <th>1</th>\n",
       "      <td>2</td>\n",
       "      <td>732</td>\n",
       "      <td>g***r</td>\n",
       "      <td>0.024390</td>\n",
       "      <td>0.2</td>\n",
       "      <td>0.0</td>\n",
       "      <td>0.013123</td>\n",
       "      <td>0.0</td>\n",
       "      <td>0.993593</td>\n",
       "      <td>0.013123</td>\n",
       "      <td>0.944444</td>\n",
       "      <td>5</td>\n",
       "      <td>0</td>\n",
       "    </tr>\n",
       "    <tr>\n",
       "      <th>2</th>\n",
       "      <td>3</td>\n",
       "      <td>732</td>\n",
       "      <td>t***p</td>\n",
       "      <td>0.142857</td>\n",
       "      <td>0.2</td>\n",
       "      <td>0.0</td>\n",
       "      <td>0.003042</td>\n",
       "      <td>0.0</td>\n",
       "      <td>0.993593</td>\n",
       "      <td>0.003042</td>\n",
       "      <td>1.000000</td>\n",
       "      <td>5</td>\n",
       "      <td>0</td>\n",
       "    </tr>\n",
       "  </tbody>\n",
       "</table>\n",
       "</div>"
      ],
      "text/plain": [
       "   Record_ID  Auction_ID Bidder_ID  Bidder_Tendency  Bidding_Ratio  \\\n",
       "0          1         732     _***i         0.200000            0.4   \n",
       "1          2         732     g***r         0.024390            0.2   \n",
       "2          3         732     t***p         0.142857            0.2   \n",
       "\n",
       "   Successive_Outbidding  Last_Bidding  Auction_Bids  Starting_Price_Average  \\\n",
       "0                    0.0      0.000028           0.0                0.993593   \n",
       "1                    0.0      0.013123           0.0                0.993593   \n",
       "2                    0.0      0.003042           0.0                0.993593   \n",
       "\n",
       "   Early_Bidding  Winning_Ratio  Auction_Duration  Class  \n",
       "0       0.000028       0.666667                 5      0  \n",
       "1       0.013123       0.944444                 5      0  \n",
       "2       0.003042       1.000000                 5      0  "
      ]
     },
     "execution_count": 11,
     "metadata": {},
     "output_type": "execute_result"
    }
   ],
   "source": [
    "df.head(3)"
   ]
  },
  {
   "cell_type": "code",
   "execution_count": 12,
   "id": "3839870c-5915-4635-ac8d-18fe66535989",
   "metadata": {},
   "outputs": [
    {
     "data": {
      "text/plain": [
       "a***a    112\n",
       "n***t     85\n",
       "e***e     67\n",
       "i***a     50\n",
       "r***r     49\n",
       "        ... \n",
       "n***y      1\n",
       "u***z      1\n",
       "t***9      1\n",
       "z***b      1\n",
       "9***7      1\n",
       "Name: Bidder_ID, Length: 1054, dtype: int64"
      ]
     },
     "execution_count": 12,
     "metadata": {},
     "output_type": "execute_result"
    }
   ],
   "source": [
    "df.Bidder_ID.value_counts()"
   ]
  },
  {
   "cell_type": "code",
   "execution_count": 13,
   "id": "54e13a89-49f1-485b-8f59-dcca6a05f053",
   "metadata": {},
   "outputs": [],
   "source": [
    "\"\"\"\n",
    "Информация по участнику аукциона это важные данные и как видно несёт в себе информацию.\n",
    "В реальном задании эту колонку следует обработать и сохранить для идентификации.\n",
    "Для домашнего задания признаков достаточно и для упрощения,  колонки 'Record_ID' и 'Bidder_ID'\n",
    "можно удалить.\n",
    "\"\"\"\n",
    "# Удаление ненужных столбцов\n",
    "df = df.drop(['Bidder_ID','Record_ID'], axis=1)"
   ]
  },
  {
   "cell_type": "code",
   "execution_count": 14,
   "id": "b03e1e0c-d624-4b37-80f9-b73b01b84db9",
   "metadata": {},
   "outputs": [
    {
     "data": {
      "text/html": [
       "<div>\n",
       "<style scoped>\n",
       "    .dataframe tbody tr th:only-of-type {\n",
       "        vertical-align: middle;\n",
       "    }\n",
       "\n",
       "    .dataframe tbody tr th {\n",
       "        vertical-align: top;\n",
       "    }\n",
       "\n",
       "    .dataframe thead th {\n",
       "        text-align: right;\n",
       "    }\n",
       "</style>\n",
       "<table border=\"1\" class=\"dataframe\">\n",
       "  <thead>\n",
       "    <tr style=\"text-align: right;\">\n",
       "      <th></th>\n",
       "      <th>Auction_ID</th>\n",
       "      <th>Auction_Duration</th>\n",
       "      <th>Bidder_Tendency</th>\n",
       "      <th>Bidding_Ratio</th>\n",
       "      <th>Successive_Outbidding</th>\n",
       "      <th>Last_Bidding</th>\n",
       "      <th>Auction_Bids</th>\n",
       "      <th>Starting_Price_Average</th>\n",
       "      <th>Early_Bidding</th>\n",
       "      <th>Winning_Ratio</th>\n",
       "      <th>Class</th>\n",
       "    </tr>\n",
       "  </thead>\n",
       "  <tbody>\n",
       "    <tr>\n",
       "      <th>0</th>\n",
       "      <td>0.287011</td>\n",
       "      <td>0.444444</td>\n",
       "      <td>0.200000</td>\n",
       "      <td>0.400000</td>\n",
       "      <td>0.0</td>\n",
       "      <td>0.000028</td>\n",
       "      <td>0.0</td>\n",
       "      <td>0.993593</td>\n",
       "      <td>0.000028</td>\n",
       "      <td>0.666667</td>\n",
       "      <td>0</td>\n",
       "    </tr>\n",
       "    <tr>\n",
       "      <th>1</th>\n",
       "      <td>0.287011</td>\n",
       "      <td>0.444444</td>\n",
       "      <td>0.024390</td>\n",
       "      <td>0.200000</td>\n",
       "      <td>0.0</td>\n",
       "      <td>0.013123</td>\n",
       "      <td>0.0</td>\n",
       "      <td>0.993593</td>\n",
       "      <td>0.013123</td>\n",
       "      <td>0.944444</td>\n",
       "      <td>0</td>\n",
       "    </tr>\n",
       "    <tr>\n",
       "      <th>2</th>\n",
       "      <td>0.287011</td>\n",
       "      <td>0.444444</td>\n",
       "      <td>0.142857</td>\n",
       "      <td>0.200000</td>\n",
       "      <td>0.0</td>\n",
       "      <td>0.003042</td>\n",
       "      <td>0.0</td>\n",
       "      <td>0.993593</td>\n",
       "      <td>0.003042</td>\n",
       "      <td>1.000000</td>\n",
       "      <td>0</td>\n",
       "    </tr>\n",
       "    <tr>\n",
       "      <th>3</th>\n",
       "      <td>0.287011</td>\n",
       "      <td>0.444444</td>\n",
       "      <td>0.100000</td>\n",
       "      <td>0.200000</td>\n",
       "      <td>0.0</td>\n",
       "      <td>0.097477</td>\n",
       "      <td>0.0</td>\n",
       "      <td>0.993593</td>\n",
       "      <td>0.097477</td>\n",
       "      <td>1.000000</td>\n",
       "      <td>0</td>\n",
       "    </tr>\n",
       "    <tr>\n",
       "      <th>4</th>\n",
       "      <td>0.353336</td>\n",
       "      <td>0.666667</td>\n",
       "      <td>0.051282</td>\n",
       "      <td>0.222222</td>\n",
       "      <td>0.0</td>\n",
       "      <td>0.001318</td>\n",
       "      <td>0.0</td>\n",
       "      <td>0.000000</td>\n",
       "      <td>0.001242</td>\n",
       "      <td>0.500000</td>\n",
       "      <td>0</td>\n",
       "    </tr>\n",
       "  </tbody>\n",
       "</table>\n",
       "</div>"
      ],
      "text/plain": [
       "   Auction_ID  Auction_Duration  Bidder_Tendency  Bidding_Ratio  \\\n",
       "0    0.287011          0.444444         0.200000       0.400000   \n",
       "1    0.287011          0.444444         0.024390       0.200000   \n",
       "2    0.287011          0.444444         0.142857       0.200000   \n",
       "3    0.287011          0.444444         0.100000       0.200000   \n",
       "4    0.353336          0.666667         0.051282       0.222222   \n",
       "\n",
       "   Successive_Outbidding  Last_Bidding  Auction_Bids  Starting_Price_Average  \\\n",
       "0                    0.0      0.000028           0.0                0.993593   \n",
       "1                    0.0      0.013123           0.0                0.993593   \n",
       "2                    0.0      0.003042           0.0                0.993593   \n",
       "3                    0.0      0.097477           0.0                0.993593   \n",
       "4                    0.0      0.001318           0.0                0.000000   \n",
       "\n",
       "   Early_Bidding  Winning_Ratio  Class  \n",
       "0       0.000028       0.666667      0  \n",
       "1       0.013123       0.944444      0  \n",
       "2       0.003042       1.000000      0  \n",
       "3       0.097477       1.000000      0  \n",
       "4       0.001242       0.500000      0  "
      ]
     },
     "execution_count": 14,
     "metadata": {},
     "output_type": "execute_result"
    }
   ],
   "source": [
    "#  НОРМАЛИЗАЦИЯ, так как большинство значений уже находятся в диапазоне от 0 до 1, кроме Auction_ID и Auction_Duration,\n",
    "# необходимо нормализовывать только эти два значения.\n",
    "from sklearn.preprocessing import MinMaxScaler\n",
    "\n",
    "df1 = df[['Auction_ID','Auction_Duration']]\n",
    "df2 = df.drop(columns = ['Auction_ID','Auction_Duration'])\n",
    "minmax = MinMaxScaler().fit(df1)\n",
    "minmax = minmax.transform(df1)\n",
    "df1 = pd.DataFrame(minmax, columns = ['Auction_ID','Auction_Duration'])\n",
    "df = df1.join(df2, how='outer')\n",
    "df.head(5)"
   ]
  },
  {
   "cell_type": "code",
   "execution_count": 15,
   "id": "a0e3b748-8d23-40dd-b431-19151bc66f2a",
   "metadata": {},
   "outputs": [
    {
     "data": {
      "image/png": "[encoded data removed]",
      "text/plain": [
       "<Figure size 1000x1000 with 12 Axes>"
      ]
     },
     "metadata": {},
     "output_type": "display_data"
    }
   ],
   "source": [
    "# посмотрим на распределения и выбросы оставшихся данных\n",
    "df.drop('Class', axis=1).plot(kind='box', subplots=True, layout=(6,2), sharex=False, sharey=False, figsize=(10,10), title='Выбросы и распределения по столбцам')\n",
    "plt.show()"
   ]
  },
  {
   "cell_type": "code",
   "execution_count": 16,
   "id": "6bdbafc5-ebac-4399-9965-92a0c3471c14",
   "metadata": {},
   "outputs": [],
   "source": [
    "#conda install -c conda-forge seaborn"
   ]
  },
  {
   "cell_type": "code",
   "execution_count": 17,
   "id": "7b4605be-9f4c-4fb4-8563-993920876a37",
   "metadata": {},
   "outputs": [
    {
     "name": "stdout",
     "output_type": "stream",
     "text": [
      "AxesSubplot(0.125,0.11;0.775x0.77)\n",
      "AxesSubplot(0.125,0.11;0.775x0.77)\n",
      "AxesSubplot(0.125,0.11;0.775x0.77)\n"
     ]
    },
    {
     "data": {
      "text/plain": [
       "Text(0, 0.5, 'Плотность вероятности')"
      ]
     },
     "execution_count": 17,
     "metadata": {},
     "output_type": "execute_result"
    },
    {
     "data": {
      "image/png": "[encoded data removed]",
      "text/plain": [
       "<Figure size 640x480 with 1 Axes>"
      ]
     },
     "metadata": {},
     "output_type": "display_data"
    }
   ],
   "source": [
    "print(sns.kdeplot(data=df, x='Winning_Ratio', color='r', shade=True))\n",
    "print(sns.kdeplot(data=df, x='Starting_Price_Average', color='y', shade=True))\n",
    "print(sns.kdeplot(data=df, x='Successive_Outbidding', color='b', shade=True))\n",
    "plt.xlabel('KDE')\n",
    "plt.ylabel('Плотность вероятности')\n",
    "# где: KDE (Kernel Density Estimation) - это метод оценки плотности вероятности на основе набора данных.\n",
    "#Он позволяет построить сглаженную оценку плотности вероятности для непрерывных переменных."
   ]
  },
  {
   "cell_type": "markdown",
   "id": "3a7f5f32-8090-488e-b4c0-96dc64e7bc01",
   "metadata": {},
   "source": [
    "Видим несколько проблемм.\n",
    "- классы не сбалансированы.\n",
    "- признаки содержат выбросы.\n",
    "- скорее всего не все признаки в равной степени важны для модели.\n",
    "\n",
    "Если классы в задаче look-alike сильно несбалансированы, то это может создать проблему при обучении модели, так как она может быть смещена к предсказанию доминирующего класса.\n",
    "\n",
    "Все эти задачи решаемы, но в масштабе данного д.з  применим простой метод - Random negative sampling (случайная отрицательная выборка). Конечно при этом будет потеря данных и получим более грубую модель."
   ]
  },
  {
   "cell_type": "code",
   "execution_count": 18,
   "id": "23798b57-dc91-4259-bd40-130e0b0e8435",
   "metadata": {},
   "outputs": [],
   "source": [
    "from sklearn.utils import resample\n",
    "# разделяем набор данных на положительные примеры (positives) и неразмеченные примеры (unlabeled).\n",
    "positives = df[df['Class'] == 1]\n",
    "unlabeled = df[df['Class'] == 0]"
   ]
  },
  {
   "cell_type": "code",
   "execution_count": 19,
   "id": "9629f2e6-2d4c-40b0-afa0-cc5b77305a1f",
   "metadata": {},
   "outputs": [],
   "source": [
    "# применяем метод resample из scikit-learn для случайной выборки отрицательных примеров (negative_samples)\n",
    "# в количестве, соответствующем количеству положительных примеров.\n",
    "n_samples = len(positives)\n",
    "negative_samples = resample(unlabeled, replace=False, n_samples=n_samples, random_state=42)"
   ]
  },
  {
   "cell_type": "code",
   "execution_count": 20,
   "id": "3ada2049-18fa-4558-a53e-e70902fdbbcf",
   "metadata": {},
   "outputs": [],
   "source": [
    "# объединяем положительные и отрицательные примеры в новом сбалансированном наборе данных (balanced_data).\n",
    "balanced_df = pd.concat([positives, negative_samples])"
   ]
  },
  {
   "cell_type": "code",
   "execution_count": 21,
   "id": "f3102bea-8307-4b65-9028-66e72aa2ed0b",
   "metadata": {},
   "outputs": [
    {
     "data": {
      "image/png": "[encoded data removed]",
      "text/plain": [
       "<Figure size 640x480 with 1 Axes>"
      ]
     },
     "metadata": {},
     "output_type": "display_data"
    }
   ],
   "source": [
    "sns.countplot(data=balanced_df, x='Class')\n",
    "plt.title(\"Распределение классов\")\n",
    "plt.show()"
   ]
  },
  {
   "cell_type": "code",
   "execution_count": 22,
   "id": "c5e58859-52f3-4845-96c0-ee51c3d002cc",
   "metadata": {},
   "outputs": [
    {
     "name": "stdout",
     "output_type": "stream",
     "text": [
      "AxesSubplot(0.125,0.11;0.775x0.77)\n",
      "AxesSubplot(0.125,0.11;0.775x0.77)\n",
      "AxesSubplot(0.125,0.11;0.775x0.77)\n"
     ]
    },
    {
     "data": {
      "text/plain": [
       "Text(0, 0.5, 'Плотность вероятности')"
      ]
     },
     "execution_count": 22,
     "metadata": {},
     "output_type": "execute_result"
    },
    {
     "data": {
      "image/png": "[encoded data removed]",
      "text/plain": [
       "<Figure size 640x480 with 1 Axes>"
      ]
     },
     "metadata": {},
     "output_type": "display_data"
    }
   ],
   "source": [
    "print(sns.kdeplot(data=balanced_df, x='Winning_Ratio', color='r', shade=True))\n",
    "print(sns.kdeplot(data=balanced_df, x='Starting_Price_Average', color='y', shade=True))\n",
    "print(sns.kdeplot(data=balanced_df, x='Successive_Outbidding', color='b', shade=True))\n",
    "plt.xlabel('KDE')\n",
    "plt.ylabel('Плотность вероятности')"
   ]
  },
  {
   "cell_type": "markdown",
   "id": "8104b7e7-e83c-44f1-aefb-3b2da05a99f3",
   "metadata": {},
   "source": [
    "### 3. обучить любой классификатор (какой вам нравится)"
   ]
  },
  {
   "cell_type": "code",
   "execution_count": 23,
   "id": "3f4cbc16-b2e5-4a0a-94dc-ebefad0bb26f",
   "metadata": {},
   "outputs": [],
   "source": [
    "from sklearn.model_selection import train_test_split\n",
    "from sklearn.linear_model import LogisticRegression\n",
    "from sklearn.metrics import accuracy_score"
   ]
  },
  {
   "cell_type": "code",
   "execution_count": 24,
   "id": "1f22d0f1-87dc-42db-ab28-2347cd960d1f",
   "metadata": {},
   "outputs": [],
   "source": [
    "# Выделение признаков и целевой переменной\n",
    "X = balanced_df.drop('Class', axis=1)\n",
    "y = balanced_df['Class']"
   ]
  },
  {
   "cell_type": "code",
   "execution_count": 25,
   "id": "f53fbf67-37b4-4bd1-97f9-e5a5f5496062",
   "metadata": {},
   "outputs": [],
   "source": [
    "# Разделение на обучающую и тестовую выборки\n",
    "X_train, X_test, y_train, Y_test = train_test_split(X, y, test_size=0.2, random_state=17)"
   ]
  },
  {
   "cell_type": "code",
   "execution_count": 26,
   "id": "6903a7c8-6d77-44d6-93e0-dc3d27e0a606",
   "metadata": {},
   "outputs": [
    {
     "data": {
      "text/html": [
       "<style>#sk-container-id-1 {color: black;background-color: white;}#sk-container-id-1 pre{padding: 0;}#sk-container-id-1 div.sk-toggleable {background-color: white;}#sk-container-id-1 label.sk-toggleable__label {cursor: pointer;display: block;width: 100%;margin-bottom: 0;padding: 0.3em;box-sizing: border-box;text-align: center;}#sk-container-id-1 label.sk-toggleable__label-arrow:before {content: \"▸\";float: left;margin-right: 0.25em;color: #696969;}#sk-container-id-1 label.sk-toggleable__label-arrow:hover:before {color: black;}#sk-container-id-1 div.sk-estimator:hover label.sk-toggleable__label-arrow:before {color: black;}#sk-container-id-1 div.sk-toggleable__content {max-height: 0;max-width: 0;overflow: hidden;text-align: left;background-color: #f0f8ff;}#sk-container-id-1 div.sk-toggleable__content pre {margin: 0.2em;color: black;border-radius: 0.25em;background-color: #f0f8ff;}#sk-container-id-1 input.sk-toggleable__control:checked~div.sk-toggleable__content {max-height: 200px;max-width: 100%;overflow: auto;}#sk-container-id-1 input.sk-toggleable__control:checked~label.sk-toggleable__label-arrow:before {content: \"▾\";}#sk-container-id-1 div.sk-estimator input.sk-toggleable__control:checked~label.sk-toggleable__label {background-color: #d4ebff;}#sk-container-id-1 div.sk-label input.sk-toggleable__control:checked~label.sk-toggleable__label {background-color: #d4ebff;}#sk-container-id-1 input.sk-hidden--visually {border: 0;clip: rect(1px 1px 1px 1px);clip: rect(1px, 1px, 1px, 1px);height: 1px;margin: -1px;overflow: hidden;padding: 0;position: absolute;width: 1px;}#sk-container-id-1 div.sk-estimator {font-family: monospace;background-color: #f0f8ff;border: 1px dotted black;border-radius: 0.25em;box-sizing: border-box;margin-bottom: 0.5em;}#sk-container-id-1 div.sk-estimator:hover {background-color: #d4ebff;}#sk-container-id-1 div.sk-parallel-item::after {content: \"\";width: 100%;border-bottom: 1px solid gray;flex-grow: 1;}#sk-container-id-1 div.sk-label:hover label.sk-toggleable__label {background-color: #d4ebff;}#sk-container-id-1 div.sk-serial::before {content: \"\";position: absolute;border-left: 1px solid gray;box-sizing: border-box;top: 0;bottom: 0;left: 50%;z-index: 0;}#sk-container-id-1 div.sk-serial {display: flex;flex-direction: column;align-items: center;background-color: white;padding-right: 0.2em;padding-left: 0.2em;position: relative;}#sk-container-id-1 div.sk-item {position: relative;z-index: 1;}#sk-container-id-1 div.sk-parallel {display: flex;align-items: stretch;justify-content: center;background-color: white;position: relative;}#sk-container-id-1 div.sk-item::before, #sk-container-id-1 div.sk-parallel-item::before {content: \"\";position: absolute;border-left: 1px solid gray;box-sizing: border-box;top: 0;bottom: 0;left: 50%;z-index: -1;}#sk-container-id-1 div.sk-parallel-item {display: flex;flex-direction: column;z-index: 1;position: relative;background-color: white;}#sk-container-id-1 div.sk-parallel-item:first-child::after {align-self: flex-end;width: 50%;}#sk-container-id-1 div.sk-parallel-item:last-child::after {align-self: flex-start;width: 50%;}#sk-container-id-1 div.sk-parallel-item:only-child::after {width: 0;}#sk-container-id-1 div.sk-dashed-wrapped {border: 1px dashed gray;margin: 0 0.4em 0.5em 0.4em;box-sizing: border-box;padding-bottom: 0.4em;background-color: white;}#sk-container-id-1 div.sk-label label {font-family: monospace;font-weight: bold;display: inline-block;line-height: 1.2em;}#sk-container-id-1 div.sk-label-container {text-align: center;}#sk-container-id-1 div.sk-container {/* jupyter's `normalize.less` sets `[hidden] { display: none; }` but bootstrap.min.css set `[hidden] { display: none !important; }` so we also need the `!important` here to be able to override the default hidden behavior on the sphinx rendered scikit-learn.org. See: https://github.com/scikit-learn/scikit-learn/issues/21755 */display: inline-block !important;position: relative;}#sk-container-id-1 div.sk-text-repr-fallback {display: none;}</style><div id=\"sk-container-id-1\" class=\"sk-top-container\"><div class=\"sk-text-repr-fallback\"><pre>LogisticRegression()</pre><b>In a Jupyter environment, please rerun this cell to show the HTML representation or trust the notebook. <br />On GitHub, the HTML representation is unable to render, please try loading this page with nbviewer.org.</b></div><div class=\"sk-container\" hidden><div class=\"sk-item\"><div class=\"sk-estimator sk-toggleable\"><input class=\"sk-toggleable__control sk-hidden--visually\" id=\"sk-estimator-id-1\" type=\"checkbox\" checked><label for=\"sk-estimator-id-1\" class=\"sk-toggleable__label sk-toggleable__label-arrow\">LogisticRegression</label><div class=\"sk-toggleable__content\"><pre>LogisticRegression()</pre></div></div></div></div></div>"
      ],
      "text/plain": [
       "LogisticRegression()"
      ]
     },
     "execution_count": 26,
     "metadata": {},
     "output_type": "execute_result"
    }
   ],
   "source": [
    "# Создание и обучение модели Logistic Regression\n",
    "model = LogisticRegression()\n",
    "model.fit(X_train, y_train)"
   ]
  },
  {
   "cell_type": "code",
   "execution_count": 29,
   "id": "b0ff7057-ef8e-4d3e-8766-7600480eee79",
   "metadata": {},
   "outputs": [
    {
     "name": "stdout",
     "output_type": "stream",
     "text": [
      "Accuracy: 0.9777777777777777\n",
      "Precision: 0.958041958041958\n",
      "Recall: 1.0\n",
      "F1-score: 0.9785714285714286\n",
      "Roc_auc_score: 0.9774436090225564\n"
     ]
    }
   ],
   "source": [
    "from sklearn.metrics import recall_score, precision_score, roc_auc_score, accuracy_score, f1_score\n",
    "\n",
    "# Прогнозирование на тестовых данных\n",
    "y_pred = model.predict(X_test)\n",
    "\n",
    "# Оценка модели\n",
    "accuracy = accuracy_score(Y_test, y_pred)\n",
    "precision = precision_score(Y_test, y_pred)\n",
    "recall = recall_score(Y_test, y_pred)\n",
    "f1 = f1_score(Y_test, y_pred)\n",
    "roc = roc_auc_score(Y_test, y_pred)\n",
    "\n",
    "# Вывод результатов\n",
    "print(\"Accuracy:\", accuracy)\n",
    "print(\"Precision:\", precision)\n",
    "print(\"Recall:\", recall)\n",
    "print(\"F1-score:\", f1)\n",
    "print(\"Roc_auc_score:\", roc)"
   ]
  },
  {
   "cell_type": "markdown",
   "id": "41396eac-33bd-4796-9d96-cced64707079",
   "metadata": {},
   "source": [
    "### 4. далее разделить ваш набор данных на два множества: P (positives) и U (unlabeled). Причем брать нужно не все положительные (класс 1) примеры, а только лишь часть"
   ]
  },
  {
   "cell_type": "code",
   "execution_count": 30,
   "id": "2b0762a4-bc94-4462-a950-07eb43dec598",
   "metadata": {},
   "outputs": [
    {
     "name": "stdout",
     "output_type": "stream",
     "text": [
      "Размер множества P (positives): 338\n",
      "Размер множества U (unlabeled): 5646\n"
     ]
    }
   ],
   "source": [
    "# Разделение на положительные и неразмеченные примеры\n",
    "positives = df[df['Class'] == 1].sample(frac=0.5, random_state=17)  # Выбираем только 50% положительных примеров\n",
    "unlabeled = df[df['Class'] == 0]\n",
    "\n",
    "# Вывод информации о размере полученных множеств\n",
    "print(\"Размер множества P (positives):\", len(positives))\n",
    "print(\"Размер множества U (unlabeled):\", len(unlabeled))\n"
   ]
  },
  {
   "cell_type": "markdown",
   "id": "15df42e0-61f5-4cdc-bf5f-dbd2dd3bf13b",
   "metadata": {},
   "source": [
    "### 5. применить random negative sampling для построения классификатора в новых условиях"
   ]
  },
  {
   "cell_type": "markdown",
   "id": "caf1208c-4741-4a95-8f14-c00d36555f4f",
   "metadata": {},
   "source": [
    "\n",
    "**Как ответственный датасаентист я по собственной инициативе выполнил балансировку классов в feature engineering ))**\n",
    "\n",
    "**Поэтому сейчас выполню обучение модели без балансировки классов**"
   ]
  },
  {
   "cell_type": "code",
   "execution_count": 31,
   "id": "59f5f742-677e-4e8a-897c-a2a3f788df70",
   "metadata": {},
   "outputs": [
    {
     "name": "stdout",
     "output_type": "stream",
     "text": [
      "Accuracy: 0.9699604743083003\n",
      "Precision: 0.8741258741258742\n",
      "Recall: 0.8620689655172413\n",
      "F1-score: 0.8680555555555555\n",
      "Roc_auc_score: 0.9229987684729065\n"
     ]
    }
   ],
   "source": [
    "# Выделение признаков и целевой переменной\n",
    "x_data = df.copy()\n",
    "y_data = x_data.pop('Class')\n",
    "\n",
    "# Разделение на обучающую и тестовую выборки\n",
    "x_train, x_test, y_train, y_test = train_test_split(x_data, y_data, test_size=0.2, random_state=17)\n",
    "\n",
    "# Создание и обучение модели Logistic Regression\n",
    "model = LogisticRegression()\n",
    "model.fit(x_train, y_train)\n",
    "\n",
    "# Прогнозирование на тестовых данных\n",
    "y_pred = model.predict(x_test)\n",
    "\n",
    "# Оценка модели\n",
    "accuracy = accuracy_score(y_test, y_pred)\n",
    "precision = precision_score(y_test, y_pred)\n",
    "recall = recall_score(y_test, y_pred)\n",
    "f1 = f1_score(y_test, y_pred)\n",
    "roc = roc_auc_score(y_test, y_pred)\n",
    "\n",
    "# Вывод результатов\n",
    "print(\"Accuracy:\", accuracy)\n",
    "print(\"Precision:\", precision)\n",
    "print(\"Recall:\", recall)\n",
    "print(\"F1-score:\", f1)\n",
    "print(\"Roc_auc_score:\", roc)"
   ]
  },
  {
   "cell_type": "markdown",
   "id": "b1b79c6d-4db3-4d9a-9555-3354c910a5df",
   "metadata": {},
   "source": [
    "### 6. сравнить качество с решением из пункта 4 (построить отчет - таблицу метрик)"
   ]
  },
  {
   "cell_type": "markdown",
   "id": "927c5079-8702-4b81-9862-42a45baa45b2",
   "metadata": {},
   "source": [
    "Для сравнения качества модели, построенной с использованием random negative sampling, с моделью, полученной в пункте 4, мы можем построить отчет с различными метриками классификации. Вот пример кода для создания такого отчета:\n",
    "В этом коде мы используем функцию classification_report из scikit-learn для создания отчета с различными метриками классификации, такими как точность, полнота, F1-мера и т. д.\n",
    "\n",
    "Мы сравниваем отчеты для модели, построенной с использованием random negative sampling (report_sampling), и исходной модели, которую мы получили в пункте 4 (report_original).\n",
    "\n",
    "Выводим оба отчета на экран для сравнения качества моделей."
   ]
  },
  {
   "cell_type": "code",
   "execution_count": 32,
   "id": "846019aa-2d46-4fe3-9ddc-3ba62b619439",
   "metadata": {},
   "outputs": [
    {
     "name": "stdout",
     "output_type": "stream",
     "text": [
      "Отчет с метриками классификации (random negative sampling):\n",
      "               precision    recall  f1-score   support\n",
      "\n",
      "           0       0.91      0.97      0.94       133\n",
      "           1       0.97      0.91      0.94       137\n",
      "\n",
      "    accuracy                           0.94       270\n",
      "   macro avg       0.94      0.94      0.94       270\n",
      "weighted avg       0.94      0.94      0.94       270\n",
      "\n",
      "\n",
      "Отчет с метриками классификации (исходная модель):\n",
      "               precision    recall  f1-score   support\n",
      "\n",
      "           0       0.98      0.98      0.98      1120\n",
      "           1       0.87      0.86      0.87       145\n",
      "\n",
      "    accuracy                           0.97      1265\n",
      "   macro avg       0.93      0.92      0.93      1265\n",
      "weighted avg       0.97      0.97      0.97      1265\n",
      "\n"
     ]
    }
   ],
   "source": [
    "from sklearn.metrics import classification_report\n",
    "\n",
    "# Прогнозирование на тестовых данных с использованием random negative sampling\n",
    "y_pred_sampling = model.predict(X_test)\n",
    "\n",
    "# Отчет с метриками классификации для random negative sampling\n",
    "report_sampling = classification_report(Y_test, y_pred_sampling)\n",
    "\n",
    "# Отчет с метриками классификации для исходной модели\n",
    "report_original = classification_report(y_test, y_pred)\n",
    "\n",
    "# Вывод отчетов\n",
    "print(\"Отчет с метриками классификации (random negative sampling):\\n\", report_sampling)\n",
    "print(\"\\nОтчет с метриками классификации (исходная модель):\\n\", report_original)\n"
   ]
  },
  {
   "cell_type": "markdown",
   "id": "86c280d6-7059-4f5f-a115-3b2aa5076017",
   "metadata": {},
   "source": [
    "### 7. поэкспериментировать с долей P на шаге 5 (как будет меняться качество модели при уменьшении/увеличении размера P)"
   ]
  },
  {
   "cell_type": "code",
   "execution_count": 33,
   "id": "c603ca6a-bd84-4b02-9f83-7d7398838c30",
   "metadata": {},
   "outputs": [
    {
     "name": "stdout",
     "output_type": "stream",
     "text": [
      "Доля P: 0.2\n",
      "Accuracy: 0.9938271604938271\n",
      "Precision: 0.9473684210526315\n",
      "Recall: 1.0\n",
      "F1-score: 0.972972972972973\n",
      "Roc_auc_score: 0.9965277777777778\n",
      "------------------------\n",
      "Доля P: 0.4\n",
      "Accuracy: 0.9947089947089947\n",
      "Precision: 0.9803921568627451\n",
      "Recall: 1.0\n",
      "F1-score: 0.99009900990099\n",
      "Roc_auc_score: 0.9964028776978417\n",
      "------------------------\n",
      "Доля P: 0.6\n",
      "Accuracy: 0.9814814814814815\n",
      "Precision: 0.948051948051948\n",
      "Recall: 1.0\n",
      "F1-score: 0.9733333333333333\n",
      "Roc_auc_score: 0.9860139860139859\n",
      "------------------------\n",
      "Доля P: 0.8\n",
      "Accuracy: 0.9835390946502057\n",
      "Precision: 0.9658119658119658\n",
      "Recall: 1.0\n",
      "F1-score: 0.9826086956521739\n",
      "Roc_auc_score: 0.9846153846153847\n",
      "------------------------\n"
     ]
    }
   ],
   "source": [
    "# Разделение на положительные и неразмеченные примеры\n",
    "positives = balanced_df[balanced_df['Class'] == 1]\n",
    "unlabeled = balanced_df[balanced_df['Class'] == 0]\n",
    "\n",
    "# Список долей P для эксперимента\n",
    "p_ratios = [0.2, 0.4, 0.6, 0.8]\n",
    "\n",
    "# Итерация по различным долям P\n",
    "for p_ratio in p_ratios:\n",
    "    # Выбор подмножества положительных примеров\n",
    "    n_samples = int(len(positives) * p_ratio)\n",
    "    sampled_positives = resample(positives, replace=False, n_samples=n_samples, random_state=17)\n",
    "\n",
    "    # Объединение положительных и неразмеченных примеров\n",
    "    balanced_data = pd.concat([sampled_positives, unlabeled])\n",
    "\n",
    "    # Выделение признаков и целевой переменной\n",
    "    X1 = balanced_data.drop('Class', axis=1)\n",
    "    Y1 = balanced_data['Class']\n",
    "\n",
    "    # Разделение на обучающую и тестовую выборки\n",
    "    X_train, X_test, y_train, y_test = train_test_split(X1, Y1, test_size=0.2, random_state=17)\n",
    "\n",
    "    # Создание и обучение модели Logistic Regression\n",
    "    model = LogisticRegression()\n",
    "    model.fit(X_train, y_train)\n",
    "\n",
    "    # Прогнозирование на тестовых данных\n",
    "    y_pred = model.predict(X_test)\n",
    "\n",
    "    # Оценка точности модели\n",
    "    accuracy = accuracy_score(y_test, y_pred)\n",
    "    precision = precision_score(y_test, y_pred)\n",
    "    recall = recall_score(y_test, y_pred)\n",
    "    f1 = f1_score(y_test, y_pred)\n",
    "    roc = roc_auc_score(y_test, y_pred)\n",
    "    print(\"Доля P:\", p_ratio)\n",
    "    print(\"Accuracy:\", accuracy)\n",
    "    print(\"Precision:\", precision)\n",
    "    print(\"Recall:\", recall)\n",
    "    print(\"F1-score:\", f1)\n",
    "    print(\"Roc_auc_score:\", roc)\n",
    "    print(\"------------------------\")"
   ]
  },
  {
   "cell_type": "code",
   "execution_count": null,
   "id": "2fa6d8ff-3edd-4c89-9325-fc9a2c05ffca",
   "metadata": {},
   "outputs": [],
   "source": []
  },
  {
   "cell_type": "code",
   "execution_count": null,
   "id": "cffe8be3-48b8-4457-a54e-573bcf2a35ad",
   "metadata": {},
   "outputs": [],
   "source": []
  },
  {
   "cell_type": "code",
   "execution_count": null,
   "id": "bb3f5162-d455-4f8b-8cf7-f16a1fa911bd",
   "metadata": {},
   "outputs": [],
   "source": []
  },
  {
   "cell_type": "code",
   "execution_count": null,
   "id": "9f97d309-a186-4966-8800-61198be6dda8",
   "metadata": {},
   "outputs": [],
   "source": []
  },
  {
   "cell_type": "code",
   "execution_count": null,
   "id": "3ae53b65-cdc1-493b-83df-77d3aca08e85",
   "metadata": {},
   "outputs": [],
   "source": []
  }
 ],
 "metadata": {
  "kernelspec": {
   "display_name": "Python 3 (ipykernel)",
   "language": "python",
   "name": "python3"
  },
  "language_info": {
   "codemirror_mode": {
    "name": "ipython",
    "version": 3
   },
   "file_extension": ".py",
   "mimetype": "text/x-python",
   "name": "python",
   "nbconvert_exporter": "python",
   "pygments_lexer": "ipython3",
   "version": "3.10.11"
  }
 },
 "nbformat": 4,
 "nbformat_minor": 5
}
